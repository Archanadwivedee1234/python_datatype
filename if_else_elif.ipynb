{
 "cells": [
  {
   "cell_type": "code",
   "execution_count": 1,
   "metadata": {},
   "outputs": [
    {
     "name": "stdout",
     "output_type": "stream",
     "text": [
      "Positive number\n",
      "This statement is always executed\n"
     ]
    }
   ],
   "source": [
    "number = 10\n",
    "\n",
    "if number > 0:\n",
    "    print('Positive number')\n",
    "\n",
    "else:\n",
    "    print('Negative number')\n",
    "\n",
    "print('This statement is always executed')"
   ]
  },
  {
   "cell_type": "code",
   "execution_count": 2,
   "metadata": {},
   "outputs": [],
   "source": [
    "# if condition1:\n",
    "#     # code block 1\n",
    "\n",
    "# elif condition2:\n",
    "#     # code block 2\n",
    "\n",
    "# else: \n",
    "#     # code block 3"
   ]
  },
  {
   "cell_type": "code",
   "execution_count": 3,
   "metadata": {},
   "outputs": [
    {
     "name": "stdout",
     "output_type": "stream",
     "text": [
      "Zero\n",
      "This statement is always executed\n"
     ]
    }
   ],
   "source": [
    "number = 0\n",
    "\n",
    "if number > 0:\n",
    "    print(\"Positive number\")\n",
    "\n",
    "elif number == 0:\n",
    "    print('Zero')\n",
    "else:\n",
    "    print('Negative number')\n",
    "\n",
    "print('This statement is always executed')\n"
   ]
  },
  {
   "cell_type": "code",
   "execution_count": null,
   "metadata": {},
   "outputs": [],
   "source": []
  }
 ],
 "metadata": {
  "kernelspec": {
   "display_name": "Python 3",
   "language": "python",
   "name": "python3"
  },
  "language_info": {
   "codemirror_mode": {
    "name": "ipython",
    "version": 3
   },
   "file_extension": ".py",
   "mimetype": "text/x-python",
   "name": "python",
   "nbconvert_exporter": "python",
   "pygments_lexer": "ipython3",
   "version": "3.11.3"
  },
  "orig_nbformat": 4
 },
 "nbformat": 4,
 "nbformat_minor": 2
}
